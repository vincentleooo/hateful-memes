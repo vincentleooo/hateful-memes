{
 "cells": [
  {
   "cell_type": "code",
   "execution_count": 1,
   "metadata": {},
   "outputs": [
    {
     "ename": "AttributeError",
     "evalue": "Can't get attribute 'CorpusToEmbedding' on <module '__main__'>",
     "output_type": "error",
     "traceback": [
      "\u001b[0;31m---------------------------------------------------------------------------\u001b[0m",
      "\u001b[0;31mAttributeError\u001b[0m                            Traceback (most recent call last)",
      "\u001b[1;32m/home/vincent/Documents/Projects (Git)/hateful-memes/test.ipynb Cell 1'\u001b[0m in \u001b[0;36m<cell line: 3>\u001b[0;34m()\u001b[0m\n\u001b[1;32m      <a href='vscode-notebook-cell://ssh-remote%2Bforge-wifi/home/vincent/Documents/Projects%20%28Git%29/hateful-memes/test.ipynb#ch0000008vscode-remote?line=0'>1</a>\u001b[0m \u001b[39mimport\u001b[39;00m \u001b[39mpickle\u001b[39;00m\n\u001b[1;32m      <a href='vscode-notebook-cell://ssh-remote%2Bforge-wifi/home/vincent/Documents/Projects%20%28Git%29/hateful-memes/test.ipynb#ch0000008vscode-remote?line=2'>3</a>\u001b[0m \u001b[39mwith\u001b[39;00m \u001b[39mopen\u001b[39m(\u001b[39m\"\u001b[39m\u001b[39mpreprocessed/text_object\u001b[39m\u001b[39m\"\u001b[39m, \u001b[39m'\u001b[39m\u001b[39mrb\u001b[39m\u001b[39m'\u001b[39m) \u001b[39mas\u001b[39;00m f:\n\u001b[0;32m----> <a href='vscode-notebook-cell://ssh-remote%2Bforge-wifi/home/vincent/Documents/Projects%20%28Git%29/hateful-memes/test.ipynb#ch0000008vscode-remote?line=3'>4</a>\u001b[0m     text_obj \u001b[39m=\u001b[39m pickle\u001b[39m.\u001b[39;49mload(f)\n\u001b[1;32m      <a href='vscode-notebook-cell://ssh-remote%2Bforge-wifi/home/vincent/Documents/Projects%20%28Git%29/hateful-memes/test.ipynb#ch0000008vscode-remote?line=4'>5</a>\u001b[0m     f\u001b[39m.\u001b[39mclose()\n",
      "\u001b[0;31mAttributeError\u001b[0m: Can't get attribute 'CorpusToEmbedding' on <module '__main__'>"
     ]
    }
   ],
   "source": [
    "import pickle\n",
    "\n",
    "with open(\"preprocessed/text_object\", 'rb') as f:\n",
    "    text_obj = pickle.load(f)\n",
    "    f.close()"
   ]
  },
  {
   "cell_type": "code",
   "execution_count": 2,
   "metadata": {},
   "outputs": [],
   "source": [
    "from utils.text_preprocessor import CorpusToEmbedding\n",
    "\n",
    "import pandas as pd\n",
    "\n",
    "df = pd.read_csv(\"./preprocessed/train.csv\")\n",
    "\n",
    "import pickle\n",
    "\n",
    "with open(\"preprocessed/text_object\", 'rb') as f:\n",
    "    text_obj = pickle.load(f)\n",
    "    f.close()"
   ]
  },
  {
   "cell_type": "code",
   "execution_count": 5,
   "metadata": {},
   "outputs": [],
   "source": [
    "df[\"text_tokens\"] = text_obj.tokens\n",
    "df[\"labels_tokens\"] = text_obj.labels"
   ]
  },
  {
   "cell_type": "code",
   "execution_count": 7,
   "metadata": {},
   "outputs": [],
   "source": [
    "from torchvision import datasets, transforms\n",
    "import torch"
   ]
  },
  {
   "cell_type": "code",
   "execution_count": 8,
   "metadata": {},
   "outputs": [],
   "source": [
    "import numpy as np\n",
    "\n",
    "df[\"new_labels\"] = np.where(df.label == 0, 1, 0)\n",
    "df[\"new_id\"] = df.id.astype(str)"
   ]
  },
  {
   "cell_type": "code",
   "execution_count": 13,
   "metadata": {},
   "outputs": [
    {
     "data": {
      "text/plain": [
       "['person', 'person']"
      ]
     },
     "execution_count": 13,
     "metadata": {},
     "output_type": "execute_result"
    }
   ],
   "source": [
    "import ast\n",
    "\n",
    "ast.literal_eval(df.labels[0])"
   ]
  },
  {
   "cell_type": "code",
   "execution_count": 17,
   "metadata": {},
   "outputs": [],
   "source": [
    "df = df.sort_values([\"new_labels\", \"new_id\"])"
   ]
  },
  {
   "cell_type": "code",
   "execution_count": 21,
   "metadata": {},
   "outputs": [],
   "source": [
    "texts = torch.utils.data.TensorDataset(torch.tensor(df.text_tokens), torch.tensor(df.new_labels))"
   ]
  },
  {
   "cell_type": "code",
   "execution_count": 14,
   "metadata": {},
   "outputs": [],
   "source": [
    "transformations = transforms.Compose([\n",
    "    transforms.Resize((224, 224)),\n",
    "    transforms.ToTensor(),\n",
    "    transforms.Normalize(mean=[0.485, 0.456, 0.406], std=[0.229, 0.224, 0.225])\n",
    "])\n",
    "\n",
    "images = datasets.ImageFolder(\"./preprocessed/img\", transform=transformations)"
   ]
  },
  {
   "cell_type": "code",
   "execution_count": 23,
   "metadata": {},
   "outputs": [],
   "source": [
    "from torch.utils.data.sampler import RandomSampler\n",
    "\n",
    "random_sampler = RandomSampler(images)"
   ]
  },
  {
   "cell_type": "code",
   "execution_count": 28,
   "metadata": {},
   "outputs": [],
   "source": [
    "image_loader = torch.utils.data.DataLoader(\n",
    "    images, batch_size=32, sampler=random_sampler\n",
    ")\n",
    "text_loader = torch.utils.data.DataLoader(texts, batch_size=32, sampler=random_sampler)"
   ]
  },
  {
   "cell_type": "code",
   "execution_count": 84,
   "metadata": {},
   "outputs": [],
   "source": [
    "import torch.nn as nn\n",
    "\n",
    "class CNN(nn.Module):\n",
    "    def __init__(self):\n",
    "        super(CNN, self).__init__()\n",
    "        drp = 0.1\n",
    "        n_classes = 2\n",
    "\n",
    "        self.relu = nn.ReLU()\n",
    "        self.dropout = nn.Dropout(drp)\n",
    "\n",
    "        self.cnn_layer1 = nn.Sequential(\n",
    "            # Layer 1\n",
    "            nn.Conv2d(3, 3, kernel_size=3, stride=1, padding=1),\n",
    "            nn.BatchNorm2d(3),\n",
    "            nn.ReLU(inplace=True),\n",
    "            nn.MaxPool2d(kernel_size=3, stride=1, padding=1),\n",
    "            nn.Dropout(drp),\n",
    "            # Layer 2\n",
    "            nn.Conv2d(3, 3, kernel_size=3, stride=1, padding=1),\n",
    "            nn.BatchNorm2d(3),\n",
    "            nn.ReLU(inplace=True),\n",
    "            nn.MaxPool2d(kernel_size=3, stride=1, padding=1),\n",
    "            nn.Dropout(drp),\n",
    "            # # Layer 3\n",
    "            # nn.Conv2d(32, 32, kernel_size=3, stride=2, padding=0),\n",
    "            # # Out: 62, 29\n",
    "            # nn.BatchNorm2d(32),\n",
    "            # nn.ReLU(inplace=True),\n",
    "            # nn.MaxPool2d(kernel_size=3, stride=2, padding=0),\n",
    "            # # Out: 30, 14\n",
    "            # nn.Dropout(drp),\n",
    "        )\n",
    "\n",
    "        self.fc1 = nn.Linear(224 * 224 * 3, 512)\n",
    "        self.fc2 = nn.Linear(512, 256)\n",
    "        self.fc3 = nn.Linear(256, 256)\n",
    "        self.fc4 = nn.Linear(256, 128)\n",
    "        self.fc5 = nn.Linear(128, 64)\n",
    "        self.relu = nn.ReLU()\n",
    "        self.dropout = nn.Dropout(drp)\n",
    "        self.out = nn.Linear(64, n_classes)\n",
    "\n",
    "    def forward(self, x):\n",
    "        # x = torch.unsqueeze(x, dim=1)\n",
    "        x = x[0]\n",
    "        out1 = self.cnn_layer1(x)\n",
    "        # out2 = self.cnn_layer2(x)\n",
    "        # full_out = torch.cat([out1, out2], dim=1)\n",
    "        # full_out = full_out.view(full_out.size(0), -1)\n",
    "        x = torch.flatten(out1, start_dim=1)\n",
    "        x = self.dropout(self.relu(self.fc1(x)))\n",
    "        x = self.dropout(self.relu(self.fc2(x)))\n",
    "        x = self.dropout(self.relu(self.fc3(x)))\n",
    "        x = self.dropout(self.relu(self.fc4(x)))\n",
    "        x = self.dropout(self.relu(self.fc5(x)))\n",
    "        out = self.out(x)\n",
    "        return out"
   ]
  },
  {
   "cell_type": "code",
   "execution_count": 85,
   "metadata": {},
   "outputs": [
    {
     "name": "stdout",
     "output_type": "stream",
     "text": [
      "tensor([[ 0.0377, -0.0567],\n",
      "        [ 0.0213, -0.0545],\n",
      "        [ 0.0201, -0.0577],\n",
      "        [-0.0030, -0.0609],\n",
      "        [ 0.0281, -0.0857],\n",
      "        [ 0.0346, -0.0577],\n",
      "        [ 0.0344, -0.0543],\n",
      "        [ 0.0251, -0.0670],\n",
      "        [ 0.0174, -0.0674],\n",
      "        [ 0.0093, -0.0913],\n",
      "        [ 0.0175, -0.0664],\n",
      "        [ 0.0301, -0.0611],\n",
      "        [ 0.0114, -0.0724],\n",
      "        [ 0.0168, -0.0580],\n",
      "        [ 0.0249, -0.0494],\n",
      "        [ 0.0398, -0.0498],\n",
      "        [ 0.0354, -0.0446],\n",
      "        [ 0.0273, -0.0801],\n",
      "        [ 0.0183, -0.0533],\n",
      "        [ 0.0201, -0.0730],\n",
      "        [ 0.0382, -0.0526],\n",
      "        [ 0.0202, -0.0549],\n",
      "        [ 0.0263, -0.0594],\n",
      "        [ 0.0206, -0.0547],\n",
      "        [ 0.0315, -0.0579],\n",
      "        [ 0.0322, -0.0582],\n",
      "        [ 0.0209, -0.0683],\n",
      "        [ 0.0281, -0.0615],\n",
      "        [ 0.0273, -0.0694],\n",
      "        [ 0.0265, -0.0597],\n",
      "        [ 0.0229, -0.0601],\n",
      "        [ 0.0236, -0.0645]], device='cuda:0', grad_fn=<AddmmBackward0>)\n"
     ]
    }
   ],
   "source": [
    "model = CNN()\n",
    "device = \"cuda:0\" if torch.cuda.is_available() else \"cpu\"\n",
    "model.to(device)\n",
    "\n",
    "# loss_fn = nn.\n",
    "\n",
    "for (i, j) in zip(image_loader, text_loader):\n",
    "    image = i[0].to(device)\n",
    "    text = j[0].to(device)\n",
    "    output = model([image, text]) # hacky way to do this?\n",
    "    print(output)\n",
    "    break"
   ]
  },
  {
   "cell_type": "code",
   "execution_count": null,
   "metadata": {},
   "outputs": [],
   "source": []
  }
 ],
 "metadata": {
  "kernelspec": {
   "display_name": "Python 3.9.12 ('hateful-memes-classification')",
   "language": "python",
   "name": "python3"
  },
  "language_info": {
   "codemirror_mode": {
    "name": "ipython",
    "version": 3
   },
   "file_extension": ".py",
   "mimetype": "text/x-python",
   "name": "python",
   "nbconvert_exporter": "python",
   "pygments_lexer": "ipython3",
   "version": "3.9.12"
  },
  "orig_nbformat": 4,
  "vscode": {
   "interpreter": {
    "hash": "c8ecd310e19b1cf28ce5d9cc54ea9408428c7e9a0d412886255a574083418416"
   }
  }
 },
 "nbformat": 4,
 "nbformat_minor": 2
}
